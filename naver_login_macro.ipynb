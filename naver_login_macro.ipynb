{
 "cells": [
  {
   "cell_type": "code",
   "execution_count": 3,
   "metadata": {
    "collapsed": true
   },
   "outputs": [
    {
     "name": "stdout",
     "output_type": "stream",
     "text": [
      "Requirement already satisfied: pyautogui in c:\\users\\dyyoo\\anaconda3\\lib\\site-packages (0.9.52)\n",
      "Note: you may need to restart the kernel to use updated packages.\n",
      "Requirement already satisfied: mouseinfo in c:\\users\\dyyoo\\anaconda3\\lib\\site-packages (from pyautogui) (0.1.3)\n",
      "Requirement already satisfied: pymsgbox in c:\\users\\dyyoo\\anaconda3\\lib\\site-packages (from pyautogui) (1.0.9)\n",
      "Requirement already satisfied: pyscreeze>=0.1.21 in c:\\users\\dyyoo\\anaconda3\\lib\\site-packages (from pyautogui) (0.1.26)\n",
      "Requirement already satisfied: pygetwindow>=0.0.5 in c:\\users\\dyyoo\\anaconda3\\lib\\site-packages (from pyautogui) (0.0.9)\n",
      "Requirement already satisfied: PyTweening>=1.0.1 in c:\\users\\dyyoo\\anaconda3\\lib\\site-packages (from pyautogui) (1.0.3)\n",
      "Requirement already satisfied: pyperclip in c:\\users\\dyyoo\\anaconda3\\lib\\site-packages (from mouseinfo->pyautogui) (1.8.1)\n",
      "Requirement already satisfied: Pillow>=6.2.1; python_version == \"3.8\" in c:\\users\\dyyoo\\anaconda3\\lib\\site-packages (from pyscreeze>=0.1.21->pyautogui) (8.0.1)\n",
      "Requirement already satisfied: pyrect in c:\\users\\dyyoo\\anaconda3\\lib\\site-packages (from pygetwindow>=0.0.5->pyautogui) (0.1.4)\n"
     ]
    }
   ],
   "source": [
    "pip install pyautogui"
   ]
  },
  {
   "cell_type": "code",
   "execution_count": 4,
   "metadata": {},
   "outputs": [],
   "source": [
    "import pyautogui as pag\n",
    "import time "
   ]
  },
  {
   "cell_type": "code",
   "execution_count": 31,
   "metadata": {},
   "outputs": [
    {
     "name": "stdout",
     "output_type": "stream",
     "text": [
      "Point(x=867, y=434)\n"
     ]
    }
   ],
   "source": [
    "login_btn = pag.position()"
   ]
  },
  {
   "cell_type": "code",
   "execution_count": 34,
   "metadata": {},
   "outputs": [
    {
     "name": "stdout",
     "output_type": "stream",
     "text": [
      "Point(x=290, y=450)\n"
     ]
    }
   ],
   "source": [
    "id_position = pag.position()"
   ]
  },
  {
   "cell_type": "code",
   "execution_count": 28,
   "metadata": {},
   "outputs": [
    {
     "name": "stdout",
     "output_type": "stream",
     "text": [
      "Point(x=650, y=581)\n"
     ]
    }
   ],
   "source": [
    "login_final = pag.position()"
   ]
  },
  {
   "cell_type": "code",
   "execution_count": 43,
   "metadata": {},
   "outputs": [],
   "source": [
    "pag.click(login_btn) # 로그인 버튼 클릭\n",
    "time.sleep(1)\n",
    "\n",
    "pag.click(id_position) # id, pw 입력\n",
    "time.sleep(1)\n",
    "pag.hotkey(\"ctrl\", \"a\")\n",
    "time.sleep(1)\n",
    "pag.press(\"delete\")\n",
    "time.sleep(1)\n",
    "my_id = \"123\"\n",
    "time.sleep(1)\n",
    "my_pw = \"112\"\n",
    "time.sleep(1)\n",
    "\n",
    "pag.typewrite(my_id, interval=0.1)\n",
    "time.sleep(1)\n",
    "pag.press(\"tab\")\n",
    "time.sleep(1)\n",
    "pag.typewrite(my_pw, interval=0.1)\n",
    "time.sleep(1)\n",
    "pag.press(\"enter\")\n",
    "\n",
    "# pag.click(login_final) # 로그인 버튼 클릭"
   ]
  }
 ],
 "metadata": {
  "kernelspec": {
   "display_name": "Python 3",
   "language": "python",
   "name": "python3"
  },
  "language_info": {
   "codemirror_mode": {
    "name": "ipython",
    "version": 3
   },
   "file_extension": ".py",
   "mimetype": "text/x-python",
   "name": "python",
   "nbconvert_exporter": "python",
   "pygments_lexer": "ipython3",
   "version": "3.8.5"
  }
 },
 "nbformat": 4,
 "nbformat_minor": 4
}
