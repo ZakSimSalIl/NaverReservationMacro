{
 "cells": [
  {
   "cell_type": "code",
   "execution_count": 1,
   "metadata": {},
   "outputs": [
    {
     "name": "stdout",
     "output_type": "stream",
     "text": [
      "Requirement already satisfied: selenium in c:\\users\\dyyoo\\anaconda3\\lib\\site-packages (3.141.0)\n",
      "Requirement already satisfied: urllib3 in c:\\users\\dyyoo\\anaconda3\\lib\\site-packages (from selenium) (1.25.11)\n",
      "Note: you may need to restart the kernel to use updated packages.\n"
     ]
    }
   ],
   "source": [
    "pip install selenium"
   ]
  },
  {
   "cell_type": "code",
   "execution_count": 1,
   "metadata": {},
   "outputs": [],
   "source": [
    "from selenium import webdriver\n",
    "import time\n",
    "from datetime import date\n",
    "\n",
    "def get_reservation(seat_path):\n",
    "    seat_element = driver.find_element_by_xpath(seat_path)\n",
    "    seat_status = seat_element.get_attribute('alt')\n",
    "    return seat_status, seat_element\n",
    "\n",
    "# 크롬 드라이버의 파일 위치를 매개변수로 넣어줌.\n",
    "# sujin = \"/Users/sujikang/Desktop/chromedriver\"\n",
    "# dorong = \"/chromedriver_win32/chromedriver\"\n",
    "driver_path = \"/Users/sujikang/Desktop/chromedriver\"\n",
    "driver = webdriver.Chrome(driver_path)\n",
    "\n",
    "# 예약 하려는 웹 페이지 주소\n",
    "url = 'https://map.naver.com/v5/entry/place/159330481?c=14122634.3334544,4516874.2031988,14,0,0,0,dh'\n",
    "driver.get(url)\n",
    "\n",
    "# iframe 으로 포커스 이동\n",
    "time.sleep(3)\n",
    "driver.switch_to.frame(driver.find_element_by_id('entryIframe'))\n",
    "\n",
    "#예약 버튼 클릭 (예약 섹션으로 이동됨)\n",
    "today = date.today().strftime(\"%Y%m%d\")\n",
    "place_id = driver.current_url.partition('?')[0].split('/')[-1]\n",
    "reservation_button = driver.find_element_by_xpath(\"//a[@href='/place/\" + place_id + \"/booking?from=map&ts=\" + today + \"']\")\n",
    "reservation_button.click()\n",
    "\n",
    "\n",
    "#첫번째 예약 버튼 클릭 (예약 페이지 2번째 place_section 클래스 하위 a tag로 접근)\n",
    "place_section_list = driver.find_elements_by_class_name('place_section')\n",
    "reservation_item_button = place_section_list[1].find_element_by_xpath(\".//a\")\n",
    "# print(reservation_item_button.get_attribute('href'))\n",
    "reservation_item_button.click()\n",
    "\n",
    "# 캘린더 클릭\n",
    "time.sleep(3) \n",
    "calendar_button = driver.find_element_by_class_name('fn-calendar1')\n",
    "calendar_button.click()\n",
    "\n",
    "# 예약 원하는 날짜 클릭\n",
    "reservation_date = '2021-03-15'\n",
    "day_element = driver.find_element_by_xpath(\"//td[@data-cal-datetext='\" + reservation_date + \"']\")\n",
    "day_element.click()\n",
    "\n",
    "# 예약 가능한 가장 빠른 시간 클릭\n",
    "time.sleep(2)\n",
    "time_section_list = driver.find_elements_by_class_name('list_time')\n",
    "time_element_list = map(lambda time_section: time_section.find_elements_by_xpath(\".//li\"), time_section_list)\n",
    "flatten_time_element_list = [y for x in list(time_element_list) for y in x]\n",
    "\n",
    "for time_element in flatten_time_element_list: \n",
    "    # 색상\n",
    "    time_element_color = time_element.find_element_by_tag_name('a').value_of_css_property('background-color')\n",
    "    if time_element_color == \"rgba(237, 251, 220, 1)\":\n",
    "        time_element.click()\n",
    "        break\n",
    "\n",
    "# 다음 단계 클릭\n",
    "time.sleep(2)\n",
    "next_button = driver.find_element_by_xpath('//*[@id=\"ct\"]/div/div[1]/booking-summary-floating-middle-step/div/div/booking-button-next/div/div/button')\n",
    "next_button.click()\n",
    "\n",
    "# 로그인 창으로 이동 -> 따라서 띄워져 있는 창을 원격제어 할 수 있어야함. -> naver_reservation_macro_with_default_browser 파일에 작성"
   ]
  }
 ],
 "metadata": {
  "kernelspec": {
   "display_name": "Python 3",
   "language": "python",
   "name": "python3"
  },
  "language_info": {
   "codemirror_mode": {
    "name": "ipython",
    "version": 3
   },
   "file_extension": ".py",
   "mimetype": "text/x-python",
   "name": "python",
   "nbconvert_exporter": "python",
   "pygments_lexer": "ipython3",
   "version": "3.8.5"
  }
 },
 "nbformat": 4,
 "nbformat_minor": 4
}
