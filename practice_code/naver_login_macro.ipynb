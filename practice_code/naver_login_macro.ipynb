{
 "cells": [
  {
   "cell_type": "code",
   "execution_count": 1,
   "metadata": {
    "collapsed": true
   },
   "outputs": [
    {
     "name": "stdout",
     "output_type": "stream",
     "text": [
      "Requirement already satisfied: pyautogui in /Users/sujikang/opt/anaconda3/lib/python3.8/site-packages (0.9.52)\n",
      "Requirement already satisfied: mouseinfo in /Users/sujikang/opt/anaconda3/lib/python3.8/site-packages (from pyautogui) (0.1.3)\n",
      "Requirement already satisfied: pymsgbox in /Users/sujikang/opt/anaconda3/lib/python3.8/site-packages (from pyautogui) (1.0.9)\n",
      "Requirement already satisfied: PyTweening>=1.0.1 in /Users/sujikang/opt/anaconda3/lib/python3.8/site-packages (from pyautogui) (1.0.3)\n",
      "Requirement already satisfied: pyobjc; platform_system == \"Darwin\" in /Users/sujikang/opt/anaconda3/lib/python3.8/site-packages (from pyautogui) (7.1)\n",
      "Requirement already satisfied: pyscreeze>=0.1.21 in /Users/sujikang/opt/anaconda3/lib/python3.8/site-packages (from pyautogui) (0.1.26)\n",
      "Requirement already satisfied: pygetwindow>=0.0.5 in /Users/sujikang/opt/anaconda3/lib/python3.8/site-packages (from pyautogui) (0.0.9)\n",
      "Requirement already satisfied: pyobjc-core; platform_system == \"Darwin\" in /Users/sujikang/opt/anaconda3/lib/python3.8/site-packages (from pyautogui) (7.1)\n",
      "Requirement already satisfied: pyperclip in /Users/sujikang/opt/anaconda3/lib/python3.8/site-packages (from mouseinfo->pyautogui) (1.8.1)\n",
      "Requirement already satisfied: rubicon-objc; platform_system == \"Darwin\" in /Users/sujikang/opt/anaconda3/lib/python3.8/site-packages (from mouseinfo->pyautogui) (0.4.0)\n",
      "Requirement already satisfied: pyobjc-framework-MediaPlayer==7.1; platform_release >= \"16.0\" in /Users/sujikang/opt/anaconda3/lib/python3.8/site-packages (from pyobjc; platform_system == \"Darwin\"->pyautogui) (7.1)\n",
      "Requirement already satisfied: pyobjc-framework-Contacts==7.1; platform_release >= \"15.0\" in /Users/sujikang/opt/anaconda3/lib/python3.8/site-packages (from pyobjc; platform_system == \"Darwin\"->pyautogui) (7.1)\n",
      "Requirement already satisfied: pyobjc-framework-AddressBook==7.1 in /Users/sujikang/opt/anaconda3/lib/python3.8/site-packages (from pyobjc; platform_system == \"Darwin\"->pyautogui) (7.1)\n",
      "Requirement already satisfied: pyobjc-framework-CoreAudio==7.1 in /Users/sujikang/opt/anaconda3/lib/python3.8/site-packages (from pyobjc; platform_system == \"Darwin\"->pyautogui) (7.1)\n",
      "Requirement already satisfied: pyobjc-framework-GameCenter==7.1; platform_release >= \"12.0\" in /Users/sujikang/opt/anaconda3/lib/python3.8/site-packages (from pyobjc; platform_system == \"Darwin\"->pyautogui) (7.1)\n",
      "Requirement already satisfied: pyobjc-framework-LatentSemanticMapping==7.1 in /Users/sujikang/opt/anaconda3/lib/python3.8/site-packages (from pyobjc; platform_system == \"Darwin\"->pyautogui) (7.1)\n",
      "Requirement already satisfied: pyobjc-framework-Intents==7.1; platform_release >= \"16.0\" in /Users/sujikang/opt/anaconda3/lib/python3.8/site-packages (from pyobjc; platform_system == \"Darwin\"->pyautogui) (7.1)\n",
      "Requirement already satisfied: pyobjc-framework-Collaboration==7.1; platform_release >= \"9.0\" in /Users/sujikang/opt/anaconda3/lib/python3.8/site-packages (from pyobjc; platform_system == \"Darwin\"->pyautogui) (7.1)\n",
      "Requirement already satisfied: pyobjc-framework-FinderSync==7.1; platform_release >= \"14.0\" in /Users/sujikang/opt/anaconda3/lib/python3.8/site-packages (from pyobjc; platform_system == \"Darwin\"->pyautogui) (7.1)\n",
      "Requirement already satisfied: pyobjc-framework-CoreSpotlight==7.1; platform_release >= \"17.0\" in /Users/sujikang/opt/anaconda3/lib/python3.8/site-packages (from pyobjc; platform_system == \"Darwin\"->pyautogui) (7.1)\n",
      "Requirement already satisfied: pyobjc-framework-StoreKit==7.1; platform_release >= \"11.0\" in /Users/sujikang/opt/anaconda3/lib/python3.8/site-packages (from pyobjc; platform_system == \"Darwin\"->pyautogui) (7.1)\n",
      "Requirement already satisfied: pyobjc-framework-iTunesLibrary==7.1; platform_release >= \"10.0\" in /Users/sujikang/opt/anaconda3/lib/python3.8/site-packages (from pyobjc; platform_system == \"Darwin\"->pyautogui) (7.1)\n",
      "Requirement already satisfied: pyobjc-framework-InstantMessage==7.1; platform_release >= \"9.0\" in /Users/sujikang/opt/anaconda3/lib/python3.8/site-packages (from pyobjc; platform_system == \"Darwin\"->pyautogui) (7.1)\n",
      "Requirement already satisfied: pyobjc-framework-QuickLookThumbnailing==7.1; platform_release >= \"19.0\" in /Users/sujikang/opt/anaconda3/lib/python3.8/site-packages (from pyobjc; platform_system == \"Darwin\"->pyautogui) (7.1)\n",
      "Requirement already satisfied: pyobjc-framework-Social==7.1; platform_release >= \"12.0\" in /Users/sujikang/opt/anaconda3/lib/python3.8/site-packages (from pyobjc; platform_system == \"Darwin\"->pyautogui) (7.1)\n",
      "Requirement already satisfied: pyobjc-framework-LinkPresentation==7.1; platform_release >= \"19.0\" in /Users/sujikang/opt/anaconda3/lib/python3.8/site-packages (from pyobjc; platform_system == \"Darwin\"->pyautogui) (7.1)\n",
      "Requirement already satisfied: pyobjc-framework-CoreML==7.1; platform_release >= \"17.0\" in /Users/sujikang/opt/anaconda3/lib/python3.8/site-packages (from pyobjc; platform_system == \"Darwin\"->pyautogui) (7.1)\n",
      "Requirement already satisfied: pyobjc-framework-ImageCaptureCore==7.1; platform_release >= \"10.0\" in /Users/sujikang/opt/anaconda3/lib/python3.8/site-packages (from pyobjc; platform_system == \"Darwin\"->pyautogui) (7.1)\n",
      "Requirement already satisfied: pyobjc-framework-MapKit==7.1; platform_release >= \"13.0\" in /Users/sujikang/opt/anaconda3/lib/python3.8/site-packages (from pyobjc; platform_system == \"Darwin\"->pyautogui) (7.1)\n",
      "Requirement already satisfied: pyobjc-framework-ColorSync==7.1; platform_release >= \"17.0\" in /Users/sujikang/opt/anaconda3/lib/python3.8/site-packages (from pyobjc; platform_system == \"Darwin\"->pyautogui) (7.1)\n",
      "Requirement already satisfied: pyobjc-framework-Security==7.1 in /Users/sujikang/opt/anaconda3/lib/python3.8/site-packages (from pyobjc; platform_system == \"Darwin\"->pyautogui) (7.1)\n",
      "Requirement already satisfied: pyobjc-framework-CoreMedia==7.1; platform_release >= \"11.0\" in /Users/sujikang/opt/anaconda3/lib/python3.8/site-packages (from pyobjc; platform_system == \"Darwin\"->pyautogui) (7.1)\n",
      "Requirement already satisfied: pyobjc-framework-AVFoundation==7.1; platform_release >= \"11.0\" in /Users/sujikang/opt/anaconda3/lib/python3.8/site-packages (from pyobjc; platform_system == \"Darwin\"->pyautogui) (7.1)\n",
      "Requirement already satisfied: pyobjc-framework-MediaAccessibility==7.1; platform_release >= \"13.0\" in /Users/sujikang/opt/anaconda3/lib/python3.8/site-packages (from pyobjc; platform_system == \"Darwin\"->pyautogui) (7.1)\n",
      "Requirement already satisfied: pyobjc-framework-FileProviderUI==7.1; platform_release >= \"19.0\" in /Users/sujikang/opt/anaconda3/lib/python3.8/site-packages (from pyobjc; platform_system == \"Darwin\"->pyautogui) (7.1)\n",
      "Requirement already satisfied: pyobjc-framework-OSLog==7.1; platform_release >= \"19.0\" in /Users/sujikang/opt/anaconda3/lib/python3.8/site-packages (from pyobjc; platform_system == \"Darwin\"->pyautogui) (7.1)\n",
      "Requirement already satisfied: pyobjc-framework-ExceptionHandling==7.1 in /Users/sujikang/opt/anaconda3/lib/python3.8/site-packages (from pyobjc; platform_system == \"Darwin\"->pyautogui) (7.1)\n",
      "Requirement already satisfied: pyobjc-framework-CoreMIDI==7.1 in /Users/sujikang/opt/anaconda3/lib/python3.8/site-packages (from pyobjc; platform_system == \"Darwin\"->pyautogui) (7.1)\n",
      "Requirement already satisfied: pyobjc-framework-DiscRecordingUI==7.1 in /Users/sujikang/opt/anaconda3/lib/python3.8/site-packages (from pyobjc; platform_system == \"Darwin\"->pyautogui) (7.1)\n",
      "Requirement already satisfied: pyobjc-framework-IMServicePlugIn==7.1; platform_release >= \"11.0\" in /Users/sujikang/opt/anaconda3/lib/python3.8/site-packages (from pyobjc; platform_system == \"Darwin\"->pyautogui) (7.1)\n",
      "Requirement already satisfied: pyobjc-framework-Accounts==7.1; platform_release >= \"12.0\" in /Users/sujikang/opt/anaconda3/lib/python3.8/site-packages (from pyobjc; platform_system == \"Darwin\"->pyautogui) (7.1)\n",
      "Requirement already satisfied: pyobjc-framework-SyncServices==7.1 in /Users/sujikang/opt/anaconda3/lib/python3.8/site-packages (from pyobjc; platform_system == \"Darwin\"->pyautogui) (7.1)\n",
      "Requirement already satisfied: pyobjc-framework-CoreLocation==7.1; platform_release >= \"10.0\" in /Users/sujikang/opt/anaconda3/lib/python3.8/site-packages (from pyobjc; platform_system == \"Darwin\"->pyautogui) (7.1)\n",
      "Requirement already satisfied: pyobjc-framework-ContactsUI==7.1; platform_release >= \"15.0\" in /Users/sujikang/opt/anaconda3/lib/python3.8/site-packages (from pyobjc; platform_system == \"Darwin\"->pyautogui) (7.1)\n",
      "Requirement already satisfied: pyobjc-framework-NaturalLanguage==7.1; platform_release >= \"18.0\" in /Users/sujikang/opt/anaconda3/lib/python3.8/site-packages (from pyobjc; platform_system == \"Darwin\"->pyautogui) (7.1)\n",
      "Requirement already satisfied: pyobjc-framework-OpenDirectory==7.1; platform_release >= \"10.0\" in /Users/sujikang/opt/anaconda3/lib/python3.8/site-packages (from pyobjc; platform_system == \"Darwin\"->pyautogui) (7.1)\n",
      "Requirement already satisfied: pyobjc-framework-OSAKit==7.1 in /Users/sujikang/opt/anaconda3/lib/python3.8/site-packages (from pyobjc; platform_system == \"Darwin\"->pyautogui) (7.1)\n",
      "Requirement already satisfied: pyobjc-framework-CoreAudioKit==7.1 in /Users/sujikang/opt/anaconda3/lib/python3.8/site-packages (from pyobjc; platform_system == \"Darwin\"->pyautogui) (7.1)\n",
      "Requirement already satisfied: pyobjc-framework-Cocoa==7.1 in /Users/sujikang/opt/anaconda3/lib/python3.8/site-packages (from pyobjc; platform_system == \"Darwin\"->pyautogui) (7.1)\n"
     ]
    },
    {
     "name": "stdout",
     "output_type": "stream",
     "text": [
      "Requirement already satisfied: pyobjc-framework-ModelIO==7.1; platform_release >= \"15.0\" in /Users/sujikang/opt/anaconda3/lib/python3.8/site-packages (from pyobjc; platform_system == \"Darwin\"->pyautogui) (7.1)\n",
      "Requirement already satisfied: pyobjc-framework-ExternalAccessory==7.1; platform_release >= \"17.0\" in /Users/sujikang/opt/anaconda3/lib/python3.8/site-packages (from pyobjc; platform_system == \"Darwin\"->pyautogui) (7.1)\n",
      "Requirement already satisfied: pyobjc-framework-CalendarStore==7.1; platform_release >= \"9.0\" in /Users/sujikang/opt/anaconda3/lib/python3.8/site-packages (from pyobjc; platform_system == \"Darwin\"->pyautogui) (7.1)\n",
      "Requirement already satisfied: pyobjc-framework-Vision==7.1; platform_release >= \"17.0\" in /Users/sujikang/opt/anaconda3/lib/python3.8/site-packages (from pyobjc; platform_system == \"Darwin\"->pyautogui) (7.1)\n",
      "Requirement already satisfied: pyobjc-framework-AuthenticationServices==7.1; platform_release >= \"19.0\" in /Users/sujikang/opt/anaconda3/lib/python3.8/site-packages (from pyobjc; platform_system == \"Darwin\"->pyautogui) (7.1)\n",
      "Requirement already satisfied: pyobjc-framework-SceneKit==7.1; platform_release >= \"11.0\" in /Users/sujikang/opt/anaconda3/lib/python3.8/site-packages (from pyobjc; platform_system == \"Darwin\"->pyautogui) (7.1)\n",
      "Requirement already satisfied: pyobjc-framework-AutomaticAssessmentConfiguration==7.1; platform_release >= \"19.0\" in /Users/sujikang/opt/anaconda3/lib/python3.8/site-packages (from pyobjc; platform_system == \"Darwin\"->pyautogui) (7.1)\n",
      "Requirement already satisfied: pyobjc-framework-Speech==7.1; platform_release >= \"19.0\" in /Users/sujikang/opt/anaconda3/lib/python3.8/site-packages (from pyobjc; platform_system == \"Darwin\"->pyautogui) (7.1)\n",
      "Requirement already satisfied: pyobjc-framework-InputMethodKit==7.1; platform_release >= \"9.0\" in /Users/sujikang/opt/anaconda3/lib/python3.8/site-packages (from pyobjc; platform_system == \"Darwin\"->pyautogui) (7.1)\n",
      "Requirement already satisfied: pyobjc-framework-ScriptingBridge==7.1; platform_release >= \"9.0\" in /Users/sujikang/opt/anaconda3/lib/python3.8/site-packages (from pyobjc; platform_system == \"Darwin\"->pyautogui) (7.1)\n",
      "Requirement already satisfied: pyobjc-framework-NotificationCenter==7.1; platform_release >= \"14.0\" in /Users/sujikang/opt/anaconda3/lib/python3.8/site-packages (from pyobjc; platform_system == \"Darwin\"->pyautogui) (7.1)\n",
      "Requirement already satisfied: pyobjc-framework-MetalPerformanceShaders==7.1; platform_release >= \"17.0\" in /Users/sujikang/opt/anaconda3/lib/python3.8/site-packages (from pyobjc; platform_system == \"Darwin\"->pyautogui) (7.1)\n",
      "Requirement already satisfied: pyobjc-framework-AdSupport==7.1; platform_release >= \"18.0\" in /Users/sujikang/opt/anaconda3/lib/python3.8/site-packages (from pyobjc; platform_system == \"Darwin\"->pyautogui) (7.1)\n",
      "Requirement already satisfied: pyobjc-framework-SpriteKit==7.1; platform_release >= \"13.0\" in /Users/sujikang/opt/anaconda3/lib/python3.8/site-packages (from pyobjc; platform_system == \"Darwin\"->pyautogui) (7.1)\n",
      "Requirement already satisfied: pyobjc-framework-CoreData==7.1 in /Users/sujikang/opt/anaconda3/lib/python3.8/site-packages (from pyobjc; platform_system == \"Darwin\"->pyautogui) (7.1)\n",
      "Requirement already satisfied: pyobjc-framework-PencilKit==7.1; platform_release >= \"19.0\" in /Users/sujikang/opt/anaconda3/lib/python3.8/site-packages (from pyobjc; platform_system == \"Darwin\"->pyautogui) (7.1)\n",
      "Requirement already satisfied: pyobjc-framework-MultipeerConnectivity==7.1; platform_release >= \"14.0\" in /Users/sujikang/opt/anaconda3/lib/python3.8/site-packages (from pyobjc; platform_system == \"Darwin\"->pyautogui) (7.1)\n",
      "Requirement already satisfied: pyobjc-framework-EventKit==7.1; platform_release >= \"12.0\" in /Users/sujikang/opt/anaconda3/lib/python3.8/site-packages (from pyobjc; platform_system == \"Darwin\"->pyautogui) (7.1)\n",
      "Requirement already satisfied: pyobjc-framework-VideoSubscriberAccount==7.1; platform_release >= \"18.0\" in /Users/sujikang/opt/anaconda3/lib/python3.8/site-packages (from pyobjc; platform_system == \"Darwin\"->pyautogui) (7.1)\n",
      "Requirement already satisfied: pyobjc-framework-ServiceManagement==7.1; platform_release >= \"10.0\" in /Users/sujikang/opt/anaconda3/lib/python3.8/site-packages (from pyobjc; platform_system == \"Darwin\"->pyautogui) (7.1)\n",
      "Requirement already satisfied: pyobjc-framework-Metal==7.1; platform_release >= \"15.0\" in /Users/sujikang/opt/anaconda3/lib/python3.8/site-packages (from pyobjc; platform_system == \"Darwin\"->pyautogui) (7.1)\n",
      "Requirement already satisfied: pyobjc-framework-CloudKit==7.1; platform_release >= \"14.0\" in /Users/sujikang/opt/anaconda3/lib/python3.8/site-packages (from pyobjc; platform_system == \"Darwin\"->pyautogui) (7.1)\n",
      "Requirement already satisfied: pyobjc-framework-SearchKit==7.1 in /Users/sujikang/opt/anaconda3/lib/python3.8/site-packages (from pyobjc; platform_system == \"Darwin\"->pyautogui) (7.1)\n",
      "Requirement already satisfied: pyobjc-framework-GameController==7.1; platform_release >= \"13.0\" in /Users/sujikang/opt/anaconda3/lib/python3.8/site-packages (from pyobjc; platform_system == \"Darwin\"->pyautogui) (7.1)\n",
      "Requirement already satisfied: pyobjc-framework-PushKit==7.1; platform_release >= \"19.0\" in /Users/sujikang/opt/anaconda3/lib/python3.8/site-packages (from pyobjc; platform_system == \"Darwin\"->pyautogui) (7.1)\n",
      "Requirement already satisfied: pyobjc-framework-ApplicationServices==7.1 in /Users/sujikang/opt/anaconda3/lib/python3.8/site-packages (from pyobjc; platform_system == \"Darwin\"->pyautogui) (7.1)\n",
      "Requirement already satisfied: pyobjc-framework-CoreText==7.1 in /Users/sujikang/opt/anaconda3/lib/python3.8/site-packages (from pyobjc; platform_system == \"Darwin\"->pyautogui) (7.1)\n",
      "Requirement already satisfied: pyobjc-framework-IOSurface==7.1; platform_release >= \"10.0\" in /Users/sujikang/opt/anaconda3/lib/python3.8/site-packages (from pyobjc; platform_system == \"Darwin\"->pyautogui) (7.1)\n",
      "Requirement already satisfied: pyobjc-framework-ExecutionPolicy==7.1; platform_release >= \"19.0\" in /Users/sujikang/opt/anaconda3/lib/python3.8/site-packages (from pyobjc; platform_system == \"Darwin\"->pyautogui) (7.1)\n",
      "Requirement already satisfied: pyobjc-framework-AVKit==7.1; platform_release >= \"13.0\" in /Users/sujikang/opt/anaconda3/lib/python3.8/site-packages (from pyobjc; platform_system == \"Darwin\"->pyautogui) (7.1)\n",
      "Requirement already satisfied: pyobjc-framework-DeviceCheck==7.1; platform_release >= \"19.0\" in /Users/sujikang/opt/anaconda3/lib/python3.8/site-packages (from pyobjc; platform_system == \"Darwin\"->pyautogui) (7.1)\n",
      "Requirement already satisfied: pyobjc-framework-InstallerPlugins==7.1 in /Users/sujikang/opt/anaconda3/lib/python3.8/site-packages (from pyobjc; platform_system == \"Darwin\"->pyautogui) (7.1)\n",
      "Requirement already satisfied: pyobjc-framework-LaunchServices==7.1 in /Users/sujikang/opt/anaconda3/lib/python3.8/site-packages (from pyobjc; platform_system == \"Darwin\"->pyautogui) (7.1)\n",
      "Requirement already satisfied: pyobjc-framework-AppleScriptKit==7.1 in /Users/sujikang/opt/anaconda3/lib/python3.8/site-packages (from pyobjc; platform_system == \"Darwin\"->pyautogui) (7.1)\n",
      "Requirement already satisfied: pyobjc-framework-LocalAuthentication==7.1; platform_release >= \"14.0\" in /Users/sujikang/opt/anaconda3/lib/python3.8/site-packages (from pyobjc; platform_system == \"Darwin\"->pyautogui) (7.1)\n",
      "Requirement already satisfied: pyobjc-framework-DictionaryServices==7.1; platform_release >= \"9.0\" in /Users/sujikang/opt/anaconda3/lib/python3.8/site-packages (from pyobjc; platform_system == \"Darwin\"->pyautogui) (7.1)\n",
      "Requirement already satisfied: pyobjc-framework-CryptoTokenKit==7.1; platform_release >= \"14.0\" in /Users/sujikang/opt/anaconda3/lib/python3.8/site-packages (from pyobjc; platform_system == \"Darwin\"->pyautogui) (7.1)\n",
      "Requirement already satisfied: pyobjc-framework-Quartz==7.1 in /Users/sujikang/opt/anaconda3/lib/python3.8/site-packages (from pyobjc; platform_system == \"Darwin\"->pyautogui) (7.1)\n",
      "Requirement already satisfied: pyobjc-framework-Automator==7.1 in /Users/sujikang/opt/anaconda3/lib/python3.8/site-packages (from pyobjc; platform_system == \"Darwin\"->pyautogui) (7.1)\n",
      "Requirement already satisfied: pyobjc-framework-CoreMediaIO==7.1; platform_release >= \"11.0\" in /Users/sujikang/opt/anaconda3/lib/python3.8/site-packages (from pyobjc; platform_system == \"Darwin\"->pyautogui) (7.1)\n",
      "Requirement already satisfied: pyobjc-framework-MediaToolbox==7.1; platform_release >= \"13.0\" in /Users/sujikang/opt/anaconda3/lib/python3.8/site-packages (from pyobjc; platform_system == \"Darwin\"->pyautogui) (7.1)\n"
     ]
    },
    {
     "name": "stdout",
     "output_type": "stream",
     "text": [
      "Requirement already satisfied: pyobjc-framework-PhotosUI==7.1; platform_release >= \"15.0\" in /Users/sujikang/opt/anaconda3/lib/python3.8/site-packages (from pyobjc; platform_system == \"Darwin\"->pyautogui) (7.1)\n",
      "Requirement already satisfied: pyobjc-framework-BusinessChat==7.1; platform_release >= \"18.0\" in /Users/sujikang/opt/anaconda3/lib/python3.8/site-packages (from pyobjc; platform_system == \"Darwin\"->pyautogui) (7.1)\n",
      "Requirement already satisfied: pyobjc-framework-DiscRecording==7.1 in /Users/sujikang/opt/anaconda3/lib/python3.8/site-packages (from pyobjc; platform_system == \"Darwin\"->pyautogui) (7.1)\n",
      "Requirement already satisfied: pyobjc-framework-DiskArbitration==7.1 in /Users/sujikang/opt/anaconda3/lib/python3.8/site-packages (from pyobjc; platform_system == \"Darwin\"->pyautogui) (7.1)\n",
      "Requirement already satisfied: pyobjc-framework-CoreHaptics==7.1; platform_release >= \"19.0\" in /Users/sujikang/opt/anaconda3/lib/python3.8/site-packages (from pyobjc; platform_system == \"Darwin\"->pyautogui) (7.1)\n",
      "Requirement already satisfied: pyobjc-framework-CoreMotion==7.1; platform_release >= \"19.0\" in /Users/sujikang/opt/anaconda3/lib/python3.8/site-packages (from pyobjc; platform_system == \"Darwin\"->pyautogui) (7.1)\n",
      "Requirement already satisfied: pyobjc-framework-SafariServices==7.1; platform_release >= \"15.0\" in /Users/sujikang/opt/anaconda3/lib/python3.8/site-packages (from pyobjc; platform_system == \"Darwin\"->pyautogui) (7.1)\n",
      "Requirement already satisfied: pyobjc-framework-AppleScriptObjC==7.1; platform_release >= \"10.0\" in /Users/sujikang/opt/anaconda3/lib/python3.8/site-packages (from pyobjc; platform_system == \"Darwin\"->pyautogui) (7.1)\n",
      "Requirement already satisfied: pyobjc-framework-PreferencePanes==7.1 in /Users/sujikang/opt/anaconda3/lib/python3.8/site-packages (from pyobjc; platform_system == \"Darwin\"->pyautogui) (7.1)\n",
      "Requirement already satisfied: pyobjc-framework-FileProvider==7.1; platform_release >= \"19.0\" in /Users/sujikang/opt/anaconda3/lib/python3.8/site-packages (from pyobjc; platform_system == \"Darwin\"->pyautogui) (7.1)\n",
      "Requirement already satisfied: pyobjc-framework-SecurityFoundation==7.1 in /Users/sujikang/opt/anaconda3/lib/python3.8/site-packages (from pyobjc; platform_system == \"Darwin\"->pyautogui) (7.1)\n",
      "Requirement already satisfied: pyobjc-framework-UserNotifications==7.1; platform_release >= \"18.0\" in /Users/sujikang/opt/anaconda3/lib/python3.8/site-packages (from pyobjc; platform_system == \"Darwin\"->pyautogui) (7.1)\n",
      "Requirement already satisfied: pyobjc-framework-CoreBluetooth==7.1; platform_release >= \"14.0\" in /Users/sujikang/opt/anaconda3/lib/python3.8/site-packages (from pyobjc; platform_system == \"Darwin\"->pyautogui) (7.1)\n",
      "Requirement already satisfied: pyobjc-framework-WebKit==7.1 in /Users/sujikang/opt/anaconda3/lib/python3.8/site-packages (from pyobjc; platform_system == \"Darwin\"->pyautogui) (7.1)\n",
      "Requirement already satisfied: pyobjc-framework-MediaLibrary==7.1; platform_release >= \"13.0\" in /Users/sujikang/opt/anaconda3/lib/python3.8/site-packages (from pyobjc; platform_system == \"Darwin\"->pyautogui) (7.1)\n",
      "Requirement already satisfied: pyobjc-framework-GameKit==7.1; platform_release >= \"12.0\" in /Users/sujikang/opt/anaconda3/lib/python3.8/site-packages (from pyobjc; platform_system == \"Darwin\"->pyautogui) (7.1)\n",
      "Requirement already satisfied: pyobjc-framework-Photos==7.1; platform_release >= \"15.0\" in /Users/sujikang/opt/anaconda3/lib/python3.8/site-packages (from pyobjc; platform_system == \"Darwin\"->pyautogui) (7.1)\n",
      "Requirement already satisfied: pyobjc-framework-SystemExtensions==7.1; platform_release >= \"19.0\" in /Users/sujikang/opt/anaconda3/lib/python3.8/site-packages (from pyobjc; platform_system == \"Darwin\"->pyautogui) (7.1)\n",
      "Requirement already satisfied: pyobjc-framework-NetFS==7.1; platform_release >= \"10.0\" in /Users/sujikang/opt/anaconda3/lib/python3.8/site-packages (from pyobjc; platform_system == \"Darwin\"->pyautogui) (7.1)\n",
      "Requirement already satisfied: pyobjc-framework-SystemConfiguration==7.1 in /Users/sujikang/opt/anaconda3/lib/python3.8/site-packages (from pyobjc; platform_system == \"Darwin\"->pyautogui) (7.1)\n",
      "Requirement already satisfied: pyobjc-framework-FSEvents==7.1; platform_release >= \"9.0\" in /Users/sujikang/opt/anaconda3/lib/python3.8/site-packages (from pyobjc; platform_system == \"Darwin\"->pyautogui) (7.1)\n",
      "Requirement already satisfied: pyobjc-framework-Network==7.1; platform_release >= \"18.0\" in /Users/sujikang/opt/anaconda3/lib/python3.8/site-packages (from pyobjc; platform_system == \"Darwin\"->pyautogui) (7.1)\n",
      "Requirement already satisfied: pyobjc-framework-ScreenSaver==7.1 in /Users/sujikang/opt/anaconda3/lib/python3.8/site-packages (from pyobjc; platform_system == \"Darwin\"->pyautogui) (7.1)\n",
      "Requirement already satisfied: pyobjc-framework-SecurityInterface==7.1 in /Users/sujikang/opt/anaconda3/lib/python3.8/site-packages (from pyobjc; platform_system == \"Darwin\"->pyautogui) (7.1)\n",
      "Requirement already satisfied: pyobjc-framework-NetworkExtension==7.1; platform_release >= \"15.0\" in /Users/sujikang/opt/anaconda3/lib/python3.8/site-packages (from pyobjc; platform_system == \"Darwin\"->pyautogui) (7.1)\n",
      "Requirement already satisfied: pyobjc-framework-DVDPlayback==7.1 in /Users/sujikang/opt/anaconda3/lib/python3.8/site-packages (from pyobjc; platform_system == \"Darwin\"->pyautogui) (7.1)\n",
      "Requirement already satisfied: pyobjc-framework-libdispatch==7.1; platform_release >= \"12.0\" in /Users/sujikang/opt/anaconda3/lib/python3.8/site-packages (from pyobjc; platform_system == \"Darwin\"->pyautogui) (7.1)\n",
      "Requirement already satisfied: pyobjc-framework-VideoToolbox==7.1; platform_release >= \"12.0\" in /Users/sujikang/opt/anaconda3/lib/python3.8/site-packages (from pyobjc; platform_system == \"Darwin\"->pyautogui) (7.1)\n",
      "Requirement already satisfied: pyobjc-framework-CoreServices==7.1 in /Users/sujikang/opt/anaconda3/lib/python3.8/site-packages (from pyobjc; platform_system == \"Darwin\"->pyautogui) (7.1)\n",
      "Requirement already satisfied: pyobjc-framework-SoundAnalysis==7.1; platform_release >= \"19.0\" in /Users/sujikang/opt/anaconda3/lib/python3.8/site-packages (from pyobjc; platform_system == \"Darwin\"->pyautogui) (7.1)\n",
      "Requirement already satisfied: pyobjc-framework-GameplayKit==7.1; platform_release >= \"15.0\" in /Users/sujikang/opt/anaconda3/lib/python3.8/site-packages (from pyobjc; platform_system == \"Darwin\"->pyautogui) (7.1)\n",
      "Requirement already satisfied: pyobjc-framework-CFNetwork==7.1 in /Users/sujikang/opt/anaconda3/lib/python3.8/site-packages (from pyobjc; platform_system == \"Darwin\"->pyautogui) (7.1)\n",
      "Requirement already satisfied: pyobjc-framework-CoreWLAN==7.1; platform_release >= \"10.0\" in /Users/sujikang/opt/anaconda3/lib/python3.8/site-packages (from pyobjc; platform_system == \"Darwin\"->pyautogui) (7.1)\n",
      "Requirement already satisfied: pyobjc-framework-MetalKit==7.1; platform_release >= \"15.0\" in /Users/sujikang/opt/anaconda3/lib/python3.8/site-packages (from pyobjc; platform_system == \"Darwin\"->pyautogui) (7.1)\n",
      "Requirement already satisfied: Pillow>=6.2.1; python_version == \"3.8\" in /Users/sujikang/opt/anaconda3/lib/python3.8/site-packages (from pyscreeze>=0.1.21->pyautogui) (8.0.1)\n",
      "Requirement already satisfied: pyrect in /Users/sujikang/opt/anaconda3/lib/python3.8/site-packages (from pygetwindow>=0.0.5->pyautogui) (0.1.4)\n",
      "Note: you may need to restart the kernel to use updated packages.\n"
     ]
    }
   ],
   "source": [
    "pip install pyautogui"
   ]
  },
  {
   "cell_type": "code",
   "execution_count": 2,
   "metadata": {},
   "outputs": [],
   "source": [
    "import pyautogui as pag\n",
    "import time \n",
    "from enum import Enum"
   ]
  },
  {
   "cell_type": "code",
   "execution_count": null,
   "metadata": {},
   "outputs": [],
   "source": [
    "class Control(Enum):\n",
    "    Window = \"ctrl\"\n",
    "    Mac = \"command\""
   ]
  },
  {
   "cell_type": "code",
   "execution_count": 14,
   "metadata": {},
   "outputs": [],
   "source": [
    "login_btn = pag.position()"
   ]
  },
  {
   "cell_type": "code",
   "execution_count": 20,
   "metadata": {},
   "outputs": [],
   "source": [
    "id_position = pag.position()"
   ]
  },
  {
   "cell_type": "code",
   "execution_count": 16,
   "metadata": {},
   "outputs": [],
   "source": [
    "login_final = pag.position()"
   ]
  },
  {
   "cell_type": "code",
   "execution_count": 27,
   "metadata": {},
   "outputs": [],
   "source": [
    "my_id = \"id\"\n",
    "my_pw = \"pwd\"\n",
    "my_control = Control.Mac"
   ]
  },
  {
   "cell_type": "code",
   "execution_count": 29,
   "metadata": {},
   "outputs": [],
   "source": [
    "pag.moveTo(login_btn.x,login_btn.y)\n",
    "pag.dragTo(button='left')\n",
    "pag.click(login_btn) # 로그인 버튼 클릭\n",
    "time.sleep(1)\n",
    "\n",
    "pag.click(id_position) # id, pw 입력\n",
    "time.sleep(1)\n",
    "pag.hotkey(my_control.value, \"a\")\n",
    "time.sleep(1)\n",
    "pag.press(\"delete\")\n",
    "time.sleep(1)\n",
    "pag.typewrite(my_id, interval=0.1)\n",
    "time.sleep(1)\n",
    "pag.press(\"tab\")\n",
    "time.sleep(1)\n",
    "pag.typewrite(my_pw, interval=0.1)\n",
    "time.sleep(1)\n",
    "pag.press(\"enter\")"
   ]
  }
 ],
 "metadata": {
  "kernelspec": {
   "display_name": "Python 3",
   "language": "python",
   "name": "python3"
  },
  "language_info": {
   "codemirror_mode": {
    "name": "ipython",
    "version": 3
   },
   "file_extension": ".py",
   "mimetype": "text/x-python",
   "name": "python",
   "nbconvert_exporter": "python",
   "pygments_lexer": "ipython3",
   "version": "3.8.5"
  }
 },
 "nbformat": 4,
 "nbformat_minor": 4
}
