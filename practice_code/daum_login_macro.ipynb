{
 "cells": [
  {
   "cell_type": "code",
   "execution_count": null,
   "metadata": {},
   "outputs": [],
   "source": [
    "pip install keyboard"
   ]
  },
  {
   "cell_type": "code",
   "execution_count": 13,
   "metadata": {},
   "outputs": [],
   "source": [
    "import pyautogui as pag\n",
    "import keyboard\n",
    "import time"
   ]
  },
  {
   "cell_type": "code",
   "execution_count": 23,
   "metadata": {},
   "outputs": [],
   "source": [
    "my_id=\"000\"\n",
    "my_pw=\"000\""
   ]
  },
  {
   "cell_type": "code",
   "execution_count": 32,
   "metadata": {},
   "outputs": [],
   "source": [
    "pos_list=[] # 로그인 버튼, id -> 2개\n",
    "trigger_key='F3' #유연성을 위한 변수 할당 (하드코딩 방지)\n",
    "\n",
    "#position list의 count가 2보다 작을때까지 true\n",
    "while len(pos_list) < 2:   \n",
    "    while True:\n",
    "        if keyboard.is_pressed(trigger_key):\n",
    "            pos = pag.position()\n",
    "            pos_list.append(pos)\n",
    "            break\n",
    "    while True:\n",
    "        if not keyboard.is_pressed(trigger_key):\n",
    "            break\n",
    "\n",
    "#매크로 프로그램 시작 단축키\n",
    "while True:\n",
    "    if keyboard.is_pressed(trigger_key):\n",
    "        break\n",
    "\n",
    "login_btn_position = pos_list[0]\n",
    "id_position = pos_list[1]\n",
    "\n",
    "# 로그인 버튼 클릭 (다음 페이지 클릭을 위해 페이지 로딩 지연 시간 추가)\n",
    "pag.click(login_btn_position) \n",
    "time.sleep(3)\n",
    "\n",
    "# id 클릭 (2번 클릭해야 id textfield에 cursor가 잡힘)\n",
    "pag.click(id_position) \n",
    "time.sleep(1)\n",
    "pag.click(id_position) \n",
    "time.sleep(1)\n",
    "\n",
    "# 자동완성 삭제\n",
    "pag.hotkey(\"ctrl\", \"a\")\n",
    "time.sleep(1)\n",
    "pag.press(\"delete\")\n",
    "time.sleep(1)\n",
    "\n",
    "# id 입력\n",
    "pag.typewrite(my_id, interval=0.1)\n",
    "time.sleep(1)\n",
    "\n",
    "# pw로 cursor 변경 후 입력\n",
    "pag.press(\"tab\")\n",
    "time.sleep(1)\n",
    "pag.typewrite(my_pw, interval=0.1)\n",
    "time.sleep(1)\n",
    "\n",
    "# 로그인 버튼 클릭\n",
    "pag.press(\"enter\")"
   ]
  },
  {
   "cell_type": "code",
   "execution_count": null,
   "metadata": {},
   "outputs": [],
   "source": []
  }
 ],
 "metadata": {
  "kernelspec": {
   "display_name": "Python 3",
   "language": "python",
   "name": "python3"
  },
  "language_info": {
   "codemirror_mode": {
    "name": "ipython",
    "version": 3
   },
   "file_extension": ".py",
   "mimetype": "text/x-python",
   "name": "python",
   "nbconvert_exporter": "python",
   "pygments_lexer": "ipython3",
   "version": "3.8.5"
  }
 },
 "nbformat": 4,
 "nbformat_minor": 4
}
