{
 "cells": [
  {
   "cell_type": "code",
   "execution_count": 4,
   "metadata": {},
   "outputs": [
    {
     "name": "stdout",
     "output_type": "stream",
     "text": [
      "Collecting selenium\n",
      "  Downloading selenium-3.141.0-py2.py3-none-any.whl (904 kB)\n",
      "\u001b[K     |████████████████████████████████| 904 kB 1.0 MB/s eta 0:00:01\n",
      "\u001b[?25hRequirement already satisfied: urllib3 in /Users/sujikang/opt/anaconda3/lib/python3.8/site-packages (from selenium) (1.25.11)\n",
      "Installing collected packages: selenium\n",
      "Successfully installed selenium-3.141.0\n",
      "Note: you may need to restart the kernel to use updated packages.\n"
     ]
    }
   ],
   "source": [
    "pip install selenium"
   ]
  },
  {
   "cell_type": "code",
   "execution_count": 73,
   "metadata": {},
   "outputs": [],
   "source": [
    "from selenium import webdriver\n",
    "import time\n",
    "\n",
    "def get_seat_by_path(seat_path):\n",
    "    seat_element = driver.find_element_by_xpath(seat_path)\n",
    "    seat_status = seat_element.get_attribute('alt')\n",
    "    return seat_status, seat_element\n",
    "\n",
    "# 크롬 드라이버의 파일 위치를 매개변수로 넣어줌.\n",
    "driver_path = \"/Users/sujikang/Desktop/NaverReservationMacro/chromedriver\"\n",
    "driver = webdriver.Chrome(driver_path)\n",
    "\n",
    "url = 'http://www.letskorail.com/'\n",
    "driver.get(url)\n",
    "\n",
    "korail_windows = driver.window_handles\n",
    "\n",
    "# 팝업창 끔\n",
    "for i in range(len(korail_windows)):\n",
    "    if i > 0:\n",
    "        korail_popup = korail_windows[i]\n",
    "        driver.switch_to.window(korail_popup)\n",
    "        driver.close()\n",
    "korail_main_window = korail_windows[0]\n",
    "driver.switch_to.window(korail_main_window)\n",
    "\n",
    "# 출발지 입력\n",
    "start_path=\"//input[@id='txtGoStart']\"\n",
    "start_element = driver.find_element_by_xpath(start_path)\n",
    "start_element.clear()\n",
    "start_element.send_keys(\"대전\\n\")\n",
    "\n",
    "# 도착지 입력\n",
    "end_path=\"//input[@id='txtGoEnd']\"\n",
    "end_element = driver.find_element_by_xpath(end_path)\n",
    "end_element.clear()\n",
    "end_element.send_keys(\"서울\\n\")\n",
    "\n",
    "# 달력 클릭 후 calander popup으로 제어권 변경\n",
    "calender_path=\"//img[@alt='달력']\"\n",
    "calender_element = driver.find_element_by_xpath(calender_path)\n",
    "calender_element.click()\n",
    "calender_popup = driver.window_handles[1]\n",
    "driver.switch_to.window(calender_popup)\n",
    "\n",
    "# 날짜 선택\n",
    "time.sleep(0.5)\n",
    "date_path=\"//span[@id='d20210223']\"\n",
    "date_element = driver.find_element_by_xpath(date_path)\n",
    "date_element.click()\n",
    "\n",
    "# 메인으로 제어권 변경\n",
    "driver.switch_to.window(korail_main_window)\n",
    "\n",
    "# 시간 입력\n",
    "time_path=\"//select[@id='time']\"\n",
    "time_element = driver.find_element_by_xpath(time_path)\n",
    "time_element.send_keys(\"20\")\n",
    "\n",
    "# 예매버튼 클릭\n",
    "reserve_path=\"//img[@alt='승차권예매']\"\n",
    "reserve_element = driver.find_element_by_xpath(reserve_path)\n",
    "reserve_element.click()\n",
    "\n",
    "# // 는 html 아래에 어떤 것이든 가능하다는 의미.\n",
    "# TODO: - 첫번째 row 만 돌기 때문에 나중에 전체 row 돌게 함수 작성 필요\n",
    "# 첫번째 row 특실 -> 정보 한개 있음 -> /a/img\n",
    "priority_seat_path = \"//tbody/tr[1]/td[5]//img\"\n",
    "time.sleep(0.5)\n",
    "priority_seat_status, priority_seat_element = get_seat_by_path(priority_seat_path)\n",
    "\n",
    "# 첫번째 row 일반실 -> 정보 두개 있음 -> /a[1]/img\n",
    "normal_seat_path = \"//tbody/tr[1]/td[6]//img\"\n",
    "time.sleep(0.5)\n",
    "normal_seat_status, normal_seat_element = get_seat_by_path(normal_seat_path)\n",
    "\n",
    "while True:\n",
    "    if normal_seat_status == \"예약하기\":\n",
    "        normal_seat_element.click()\n",
    "        break\n",
    "    elif priority_seat_status == \"예약하기\":\n",
    "        priority_seat_element.click()\n",
    "    else:\n",
    "        driver.refresh()"
   ]
  },
  {
   "cell_type": "code",
   "execution_count": null,
   "metadata": {},
   "outputs": [],
   "source": []
  }
 ],
 "metadata": {
  "kernelspec": {
   "display_name": "Python 3",
   "language": "python",
   "name": "python3"
  },
  "language_info": {
   "codemirror_mode": {
    "name": "ipython",
    "version": 3
   },
   "file_extension": ".py",
   "mimetype": "text/x-python",
   "name": "python",
   "nbconvert_exporter": "python",
   "pygments_lexer": "ipython3",
   "version": "3.8.5"
  }
 },
 "nbformat": 4,
 "nbformat_minor": 4
}
