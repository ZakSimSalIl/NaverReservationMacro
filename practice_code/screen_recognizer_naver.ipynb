{
 "cells": [
  {
   "cell_type": "code",
   "execution_count": 1,
   "metadata": {},
   "outputs": [],
   "source": [
    "import pyautogui as pag\n",
    "import time\n",
    "from PIL import ImageGrab"
   ]
  },
  {
   "cell_type": "code",
   "execution_count": 2,
   "metadata": {},
   "outputs": [],
   "source": [
    "# naver page로 가는 버튼 position 위에 cursor 두고 실행\n",
    "naver_pos = pag.position()"
   ]
  },
  {
   "cell_type": "code",
   "execution_count": 3,
   "metadata": {},
   "outputs": [],
   "source": [
    "# alert 창 확인 버튼 position 위에 cursor 두고 실행 -> naver_button.html 버튼 누르면 50% 확률로 경고 창 뜨는데 그 위치 잡으면 됨\n",
    "alert_ok_pos = pag.position()"
   ]
  },
  {
   "cell_type": "code",
   "execution_count": 4,
   "metadata": {},
   "outputs": [],
   "source": [
    "# alert 창 확인 버튼 rgb 색상\n",
    "alert_ok_rgb = (64, 138, 236)"
   ]
  },
  {
   "cell_type": "code",
   "execution_count": 5,
   "metadata": {},
   "outputs": [],
   "source": [
    "while True:\n",
    "    pag.click(naver_pos)\n",
    "    # 경고창이 뜨는데 지연 시간이 있으니까 sleep\n",
    "    time.sleep(0.5)\n",
    "    screen = ImageGrab.grab() # 스크린 캡쳐 기능\n",
    "    rgb = screen.getpixel(alert_ok_pos)\n",
    "    if rgb == alert_ok_rgb: # 경고창 발생\n",
    "        pag.click(alert_ok_pos)\n",
    "    else: #미발생\n",
    "        break"
   ]
  }
 ],
 "metadata": {
  "kernelspec": {
   "display_name": "Python 3",
   "language": "python",
   "name": "python3"
  },
  "language_info": {
   "codemirror_mode": {
    "name": "ipython",
    "version": 3
   },
   "file_extension": ".py",
   "mimetype": "text/x-python",
   "name": "python",
   "nbconvert_exporter": "python",
   "pygments_lexer": "ipython3",
   "version": "3.8.5"
  }
 },
 "nbformat": 4,
 "nbformat_minor": 4
}
