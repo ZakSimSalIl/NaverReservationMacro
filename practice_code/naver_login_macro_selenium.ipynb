{
 "cells": [
  {
   "cell_type": "code",
   "execution_count": 1,
   "metadata": {},
   "outputs": [
    {
     "name": "stdout",
     "output_type": "stream",
     "text": [
      "Collecting seleniumNote: you may need to restart the kernel to use updated packages.\n",
      "  Downloading selenium-3.141.0-py2.py3-none-any.whl (904 kB)\n",
      "Requirement already satisfied: urllib3 in c:\\users\\dyyoo\\anaconda3\\lib\\site-packages (from selenium) (1.25.11)\n",
      "Installing collected packages: selenium\n",
      "Successfully installed selenium-3.141.0\n",
      "\n"
     ]
    }
   ],
   "source": [
    "pip install selenium"
   ]
  },
  {
   "cell_type": "code",
   "execution_count": 26,
   "metadata": {},
   "outputs": [],
   "source": [
    "from selenium import webdriver\n",
    "import time\n",
    "\n",
    "# 크롬 드라이버\n",
    "driver = webdriver.Chrome(\"C:\\chromedriver_win32\\chromedriver.exe\")\n",
    "\n",
    "url = \"https://www.naver.com\"\n",
    "driver.get(url)\n",
    "\n",
    "# xpath - \"//태그명[@속성명='속성값']\"\n",
    "login_path = \"//a[@class='link_login']\"\n",
    "id_path = \"//input[@id='id']\"\n",
    "pwd_path = \"//input[@id='pw']\"\n",
    "login_submit_path = \"//input[@id='log.login']\"\n",
    "\n",
    "# 메인 페이지에서 로그인 버튼 클릭\n",
    "login_btn = driver.find_element_by_xpath(login_path)\n",
    "login_btn.click()\n",
    "\n",
    "# 로그인 페이지에서 id, pwd 입력\n",
    "time.sleep(1)\n",
    "id_textfield = driver.find_element_by_xpath(id_path)\n",
    "id_textfield.send_keys(\"idinput\")\n",
    "time.sleep(1)\n",
    "pwd_textfield = driver.find_element_by_xpath(pwd_path)\n",
    "pwd_textfield.send_keys(\"pwinput\")\n",
    "time.sleep(1)\n",
    "\n",
    "# 로그인 버튼 클릭\n",
    "login_submit_textfield = driver.find_element_by_xpath(login_submit_path)\n",
    "login_submit_textfield.click()"
   ]
  }
 ],
 "metadata": {
  "kernelspec": {
   "display_name": "Python 3",
   "language": "python",
   "name": "python3"
  },
  "language_info": {
   "codemirror_mode": {
    "name": "ipython",
    "version": 3
   },
   "file_extension": ".py",
   "mimetype": "text/x-python",
   "name": "python",
   "nbconvert_exporter": "python",
   "pygments_lexer": "ipython3",
   "version": "3.8.5"
  }
 },
 "nbformat": 4,
 "nbformat_minor": 4
}
