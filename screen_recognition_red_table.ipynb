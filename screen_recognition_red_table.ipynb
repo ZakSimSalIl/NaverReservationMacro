{
 "cells": [
  {
   "cell_type": "code",
   "execution_count": 2,
   "metadata": {},
   "outputs": [],
   "source": [
    "import pyautogui as pag\n",
    "from PIL import ImageGrab"
   ]
  },
  {
   "cell_type": "code",
   "execution_count": 23,
   "metadata": {},
   "outputs": [],
   "source": [
    "#왼쪽 위 시작 position\n",
    "start = pag.position()"
   ]
  },
  {
   "cell_type": "code",
   "execution_count": 24,
   "metadata": {},
   "outputs": [],
   "source": [
    "#오른쪽 아래 끝 position\n",
    "end = pag.position()"
   ]
  },
  {
   "cell_type": "code",
   "execution_count": 27,
   "metadata": {},
   "outputs": [],
   "source": [
    "#새로고침 position\n",
    "reload_pos = pag.position()"
   ]
  },
  {
   "cell_type": "code",
   "execution_count": 32,
   "metadata": {},
   "outputs": [],
   "source": [
    "# 화면 인식 매크로 : 메인 로직\n",
    "red = (255, 0, 0)\n",
    "is_red_appeared = False\n",
    "\n",
    "while True:\n",
    "    screen = ImageGrab.grab() #화면 캡쳐\n",
    "    for i in range(start[0], end[0]):\n",
    "        for j in range(start[1], end[1]):\n",
    "            rgb = screen.getpixel((i, j))\n",
    "            if rgb == red:\n",
    "                pag.click((i+15, j+15))\n",
    "                is_red_appeared = True\n",
    "                break\n",
    "        if is_red_appeared:\n",
    "            break\n",
    "    if not is_red_appeared:\n",
    "        # 새로고침\n",
    "        pag.click(reload_pos)\n",
    "    else:\n",
    "        break"
   ]
  },
  {
   "cell_type": "code",
   "execution_count": null,
   "metadata": {},
   "outputs": [],
   "source": [
    "# TODO: 위의 화면 캡처 로직이 x와 y 에 대한 루프를 너무 많이 도는 것 같아서, 각 cell의 중간 position 만 탐색하는 로직으로 리팩토링을 했는데 잘 동작 안함.. 왜??\n",
    "red = (255, 0, 0)\n",
    "is_red_appeared = False\n",
    "start = pag.position()\n",
    "rows = 3\n",
    "columns = 3\n",
    "cellWidth = 150\n",
    "\n",
    "for time in range(3):\n",
    "    screen = ImageGrab.grab()\n",
    "    print(\"time: \", time)\n",
    "    for x in range(rows):\n",
    "        print(\"x: \", x)\n",
    "        for y in range(columns):\n",
    "            print(\"y: \", y)\n",
    "            cellX = cellWidth * x + start.x\n",
    "            cellY = cellWidth * y + start.y\n",
    "            cellCenter = ((cellX + cellWidth/2), (cellY + cellWidth/2))\n",
    "            print(cellCenter)\n",
    "            rgb = screen.getpixel(cellCenter)\n",
    "            if rgb == red:\n",
    "                pag.click(cellCenter)\n",
    "                is_red_appeared = True\n",
    "                break\n",
    "        if is_red_appeared:\n",
    "            break\n",
    "                \n",
    "    if not is_red_appeared:\n",
    "        # 새로고침\n",
    "        # pag.hotkey(\"ctrl\", \"r\")\n",
    "        pag.click(reload_pos)\n",
    "    else:\n",
    "        break"
   ]
  }
 ],
 "metadata": {
  "kernelspec": {
   "display_name": "Python 3",
   "language": "python",
   "name": "python3"
  },
  "language_info": {
   "codemirror_mode": {
    "name": "ipython",
    "version": 3
   },
   "file_extension": ".py",
   "mimetype": "text/x-python",
   "name": "python",
   "nbconvert_exporter": "python",
   "pygments_lexer": "ipython3",
   "version": "3.8.5"
  }
 },
 "nbformat": 4,
 "nbformat_minor": 4
}
