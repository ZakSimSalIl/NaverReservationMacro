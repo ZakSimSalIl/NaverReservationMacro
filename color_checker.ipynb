{
 "cells": [
  {
   "cell_type": "code",
   "execution_count": 2,
   "metadata": {
    "scrolled": true
   },
   "outputs": [
    {
     "name": "stdout",
     "output_type": "stream",
     "text": [
      "Requirement already satisfied: pillow in /Users/sujikang/opt/anaconda3/lib/python3.8/site-packages (8.0.1)\n",
      "Note: you may need to restart the kernel to use updated packages.\n"
     ]
    }
   ],
   "source": [
    "pip install pillow"
   ]
  },
  {
   "cell_type": "code",
   "execution_count": 44,
   "metadata": {},
   "outputs": [],
   "source": [
    "from PIL import ImageGrab # from에서 pillow 쓸때 PIL 로 써야함\n",
    "import pyautogui as pag"
   ]
  },
  {
   "cell_type": "code",
   "execution_count": 45,
   "metadata": {},
   "outputs": [],
   "source": [
    "def color_def():\n",
    "    red = (255, 0, 0, 255)\n",
    "    green = (0, 255, 0, 255)\n",
    "    blue = (0, 0, 255, 255)\n",
    "\n",
    "    screen = ImageGrab.grab() # 스크린 캡쳐 기능\n",
    "    pos = pag.position() # 마우스 현재 위치 잡는 기능\n",
    "    rgb = screen.getpixel(pos)\n",
    "\n",
    "    if rgb == red: \n",
    "        print(\"red\")\n",
    "    elif rgb == green: \n",
    "        print(\"green\")\n",
    "    elif rgb == blue:\n",
    "        print(\"blue\")\n",
    "    else:\n",
    "        print(\"unknown\")"
   ]
  },
  {
   "cell_type": "code",
   "execution_count": 46,
   "metadata": {},
   "outputs": [
    {
     "name": "stdout",
     "output_type": "stream",
     "text": [
      "unknown\n"
     ]
    }
   ],
   "source": [
    "color_def()"
   ]
  }
 ],
 "metadata": {
  "kernelspec": {
   "display_name": "Python 3",
   "language": "python",
   "name": "python3"
  },
  "language_info": {
   "codemirror_mode": {
    "name": "ipython",
    "version": 3
   },
   "file_extension": ".py",
   "mimetype": "text/x-python",
   "name": "python",
   "nbconvert_exporter": "python",
   "pygments_lexer": "ipython3",
   "version": "3.8.5"
  }
 },
 "nbformat": 4,
 "nbformat_minor": 4
}
